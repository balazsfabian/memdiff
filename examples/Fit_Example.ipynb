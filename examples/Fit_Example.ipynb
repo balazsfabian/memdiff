{
 "cells": [
  {
   "cell_type": "markdown",
   "metadata": {
    "collapsed": true
   },
   "source": [
    "# Modules and Constants"
   ]
  },
  {
   "cell_type": "code",
   "execution_count": null,
   "metadata": {
    "ExecuteTime": {
     "end_time": "2018-03-14T16:05:00.049258",
     "start_time": "2018-03-14T16:04:59.003283"
    }
   },
   "outputs": [],
   "source": [
    "# System output and input\n",
    "import sys\n",
    "import os.path\n",
    "\n",
    "# Mathematical operations\n",
    "import numpy as np\n",
    "import scipy as sp\n",
    "from scipy.optimize import curve_fit\n",
    "import matplotlib.pyplot as plt\n",
    "%matplotlib inline\n",
    "from matplotlib import colors"
   ]
  },
  {
   "cell_type": "code",
   "execution_count": null,
   "metadata": {
    "scrolled": true
   },
   "outputs": [],
   "source": [
    "import memdiff"
   ]
  },
  {
   "cell_type": "code",
   "execution_count": null,
   "metadata": {
    "ExecuteTime": {
     "end_time": "2018-03-14T16:05:00.058788",
     "start_time": "2018-03-14T16:05:00.052016"
    }
   },
   "outputs": [],
   "source": [
    "# Natural constants\n",
    "kB    = 1.3806485*10**-23  # Boltzmann constant [J/K]\n",
    "\n",
    "# Simulation parameters\n",
    "eta_f = 10.2e-04\n",
    "T     = 300\n",
    "\n",
    "# unit factors\n",
    "cf    = 10**-5             # dc [nm^2/ns] * cf = dc [cm^2/s]\n",
    "m2    = 10**4              # dc [m^2/s] * m2 = dc [cm^2/s]  "
   ]
  },
  {
   "cell_type": "markdown",
   "metadata": {},
   "source": [
    "# Load the Data"
   ]
  },
  {
   "cell_type": "code",
   "execution_count": null,
   "metadata": {
    "ExecuteTime": {
     "end_time": "2018-03-14T16:05:00.074994",
     "start_time": "2018-03-14T16:05:00.061501"
    }
   },
   "outputs": [],
   "source": [
    "data_CNT  = memdiff.analysis.Dataset('la_CNT',  \"data/dc_CNT.dat\",  300, mono=False, \n",
    "                                     eta_f=eta_f, label=r'$D_\\mathrm{CNT}$'  )\n",
    "data_DOPC = memdiff.analysis.Dataset('la_DOPC', \"data/dc_DOPC.dat\", 300, mono=True,  \n",
    "                                     eta_f=eta_f, label=r'$D_\\mathrm{DOPC}$' )\n",
    "data_POPC = memdiff.analysis.Dataset('la_POPC', \"data/dc_POPC.dat\", 300, mono=True,  \n",
    "                                     eta_f=eta_f, label=r'$D_\\mathrm{POPC}$' )"
   ]
  },
  {
   "cell_type": "code",
   "execution_count": null,
   "metadata": {
    "ExecuteTime": {
     "end_time": "2018-03-14T16:05:00.082778",
     "start_time": "2018-03-14T16:05:00.077577"
    }
   },
   "outputs": [],
   "source": [
    "# Use the approximative correction (much faster)\n",
    "for component in [data_CNT, data_DOPC, data_POPC]:\n",
    "    component.approx = True"
   ]
  },
  {
   "cell_type": "markdown",
   "metadata": {},
   "source": [
    "# Fit the infinite-system diffusion coefficient and the membrane viscosity for each component"
   ]
  },
  {
   "cell_type": "code",
   "execution_count": null,
   "metadata": {
    "ExecuteTime": {
     "end_time": "2018-03-14T16:05:01.228382",
     "start_time": "2018-03-14T16:05:00.085686"
    }
   },
   "outputs": [],
   "source": [
    "data_CNT.find_d_inf()\n",
    "data_CNT.overview()\n",
    "data_CNT.newvalues_plot(save=False)"
   ]
  },
  {
   "cell_type": "code",
   "execution_count": null,
   "metadata": {
    "ExecuteTime": {
     "end_time": "2018-03-14T16:05:02.026888",
     "start_time": "2018-03-14T16:05:01.231235"
    }
   },
   "outputs": [],
   "source": [
    "data_DOPC.find_d_inf()\n",
    "data_DOPC.overview()\n",
    "data_DOPC.newvalues_plot(save=False)"
   ]
  },
  {
   "cell_type": "code",
   "execution_count": null,
   "metadata": {
    "ExecuteTime": {
     "end_time": "2018-03-14T16:05:02.644683",
     "start_time": "2018-03-14T16:05:02.029865"
    }
   },
   "outputs": [],
   "source": [
    "data_POPC.find_d_inf()\n",
    "data_POPC.overview()\n",
    "data_POPC.newvalues_plot(save=False)"
   ]
  }
 ],
 "metadata": {
  "anaconda-cloud": {},
  "hide_input": false,
  "kernelspec": {
   "display_name": "Python 3",
   "language": "python",
   "name": "python3"
  },
  "language_info": {
   "codemirror_mode": {
    "name": "ipython",
    "version": 3
   },
   "file_extension": ".py",
   "mimetype": "text/x-python",
   "name": "python",
   "nbconvert_exporter": "python",
   "pygments_lexer": "ipython3",
   "version": "3.9.1"
  },
  "toc": {
   "colors": {
    "hover_highlight": "#DAA520",
    "running_highlight": "#FF0000",
    "selected_highlight": "#FFD700"
   },
   "moveMenuLeft": true,
   "nav_menu": {
    "height": "136px",
    "width": "252px"
   },
   "navigate_menu": true,
   "number_sections": true,
   "sideBar": true,
   "threshold": 4,
   "toc_cell": true,
   "toc_position": {
    "height": "767px",
    "left": "0px",
    "right": "1555px",
    "top": "107px",
    "width": "365px"
   },
   "toc_section_display": "block",
   "toc_window_display": true
  }
 },
 "nbformat": 4,
 "nbformat_minor": 1
}
