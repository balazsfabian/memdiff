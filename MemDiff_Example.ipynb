{
 "cells": [
  {
   "cell_type": "markdown",
   "metadata": {
    "toc": "true"
   },
   "source": [
    "# Table of Contents\n",
    " <p><div class=\"lev1 toc-item\"><a href=\"#Modules-and-Constants\" data-toc-modified-id=\"Modules-and-Constants-1\"><span class=\"toc-item-num\">1&nbsp;&nbsp;</span>Modules and Constants</a></div><div class=\"lev1 toc-item\"><a href=\"#Load-the-Data\" data-toc-modified-id=\"Load-the-Data-2\"><span class=\"toc-item-num\">2&nbsp;&nbsp;</span>Load the Data</a></div><div class=\"lev1 toc-item\"><a href=\"#Fit-the-infinite-system-diffusion-coefficient-and-the-membrane-viscosity-for-each-component\" data-toc-modified-id=\"Fit-the-infinite-system-diffusion-coefficient-and-the-membrane-viscosity-for-each-component-3\"><span class=\"toc-item-num\">3&nbsp;&nbsp;</span>Fit the infinite-system diffusion coefficient and the membrane viscosity for each component</a></div>"
   ]
  },
  {
   "cell_type": "markdown",
   "metadata": {
    "collapsed": true
   },
   "source": [
    "# Modules and Constants"
   ]
  },
  {
   "cell_type": "code",
   "execution_count": 1,
   "metadata": {
    "ExecuteTime": {
     "end_time": "2018-03-14T16:05:00.049258",
     "start_time": "2018-03-14T16:04:59.003283"
    },
    "collapsed": true
   },
   "outputs": [],
   "source": [
    "# System output and input\n",
    "import sys\n",
    "import os.path\n",
    "\n",
    "# Mathematical operations\n",
    "import numpy as np\n",
    "import scipy as sp\n",
    "from scipy.optimize import curve_fit\n",
    "import matplotlib.pyplot as plt\n",
    "%matplotlib inline\n",
    "from matplotlib import colors\n",
    "\n",
    "# Functions for membrane diffusion\n",
    "import memdiff as memd\n",
    "import memdiff_immersed_boundary as mdib\n",
    "\n",
    "# analysis routines\n",
    "from analysis_diffusion import *"
   ]
  },
  {
   "cell_type": "code",
   "execution_count": 2,
   "metadata": {
    "ExecuteTime": {
     "end_time": "2018-03-14T16:05:00.058788",
     "start_time": "2018-03-14T16:05:00.052016"
    },
    "collapsed": true
   },
   "outputs": [],
   "source": [
    "# Natural constants\n",
    "kB    = 1.3806485*10**-23  # Boltzmann constant [J/K]\n",
    "\n",
    "# Simulation parameters\n",
    "eta_f = 10.2e-04\n",
    "T     = 300\n",
    "\n",
    "# unit factors\n",
    "cf    = 10**-5             # dc [nm^2/ns] * cf = dc [cm^2/s]\n",
    "m2    = 10**4              # dc [m^2/s] * m2 = dc [cm^2/s]  "
   ]
  },
  {
   "cell_type": "markdown",
   "metadata": {},
   "source": [
    "# Load the Data"
   ]
  },
  {
   "cell_type": "code",
   "execution_count": 3,
   "metadata": {
    "ExecuteTime": {
     "end_time": "2018-03-14T16:05:00.074994",
     "start_time": "2018-03-14T16:05:00.061501"
    },
    "collapsed": true
   },
   "outputs": [],
   "source": [
    "data_CNT  = Dataset('la_CNT',  \"example_data/dc_CNT.dat\",  300, mono = False, eta_f = eta_f, label=r'$D_\\mathrm{CNT}$'  )\n",
    "data_DOPC = Dataset('la_DOPC', \"example_data/dc_DOPC.dat\", 300, mono = True,  eta_f = eta_f, label=r'$D_\\mathrm{DOPC}$' )\n",
    "data_POPC = Dataset('la_POPC', \"example_data/dc_POPC.dat\", 300, mono = True,  eta_f = eta_f, label=r'$D_\\mathrm{POPC}$' )"
   ]
  },
  {
   "cell_type": "code",
   "execution_count": 4,
   "metadata": {
    "ExecuteTime": {
     "end_time": "2018-03-14T16:05:00.082778",
     "start_time": "2018-03-14T16:05:00.077577"
    },
    "collapsed": true
   },
   "outputs": [],
   "source": [
    "# USe the approximative correction (much faster)\n",
    "for component in [data_CNT, data_DOPC, data_POPC]:\n",
    "    component.approx = True"
   ]
  },
  {
   "cell_type": "markdown",
   "metadata": {},
   "source": [
    "# Fit the infinite-system diffusion coefficient and the membrane viscosity for each component"
   ]
  },
  {
   "cell_type": "code",
   "execution_count": 5,
   "metadata": {
    "ExecuteTime": {
     "end_time": "2018-03-14T16:05:01.228382",
     "start_time": "2018-03-14T16:05:00.085686"
    }
   },
   "outputs": [
    {
     "name": "stdout",
     "output_type": "stream",
     "text": [
      "D_inf  = 2.731 10^-7 cm^/s\n",
      "eta_m  = 4.223 10^-11 Pa*s*m\n",
      "L_SD   = 20.703 nm\n"
     ]
    },
    {
     "data": {
      "image/png": "[encoded data removed]",
      "text/plain": [
       "<matplotlib.figure.Figure at 0x10e487e90>"
      ]
     },
     "metadata": {},
     "output_type": "display_data"
    }
   ],
   "source": [
    "data_CNT.find_d_inf()\n",
    "data_CNT.overview()\n",
    "data_CNT.newvalues_plot(save=False)"
   ]
  },
  {
   "cell_type": "code",
   "execution_count": 6,
   "metadata": {
    "ExecuteTime": {
     "end_time": "2018-03-14T16:05:02.026888",
     "start_time": "2018-03-14T16:05:01.231235"
    }
   },
   "outputs": [
    {
     "name": "stdout",
     "output_type": "stream",
     "text": [
      "D_inf  = 5.638 10^-7 cm^/s\n",
      "eta_m  = 4.045 10^-11 Pa*s*m\n",
      "L_SD   = 19.831 nm\n"
     ]
    },
    {
     "data": {
      "image/png": "[encoded data removed]",
      "text/plain": [
       "<matplotlib.figure.Figure at 0x10e487f10>"
      ]
     },
     "metadata": {},
     "output_type": "display_data"
    }
   ],
   "source": [
    "data_DOPC.find_d_inf()\n",
    "data_DOPC.overview()\n",
    "data_DOPC.newvalues_plot(save=False)"
   ]
  },
  {
   "cell_type": "code",
   "execution_count": 7,
   "metadata": {
    "ExecuteTime": {
     "end_time": "2018-03-14T16:05:02.644683",
     "start_time": "2018-03-14T16:05:02.029865"
    }
   },
   "outputs": [
    {
     "name": "stdout",
     "output_type": "stream",
     "text": [
      "D_inf  = 5.809 10^-7 cm^/s\n",
      "eta_m  = 4.060 10^-11 Pa*s*m\n",
      "L_SD   = 19.904 nm\n"
     ]
    },
    {
     "data": {
      "image/png": "[encoded data removed]",
      "text/plain": [
       "<matplotlib.figure.Figure at 0x10e66bcd0>"
      ]
     },
     "metadata": {},
     "output_type": "display_data"
    }
   ],
   "source": [
    "data_POPC.find_d_inf()\n",
    "data_POPC.overview()\n",
    "data_POPC.newvalues_plot(save=False)"
   ]
  },
  {
   "cell_type": "code",
   "execution_count": null,
   "metadata": {
    "collapsed": true
   },
   "outputs": [],
   "source": []
  }
 ],
 "metadata": {
  "anaconda-cloud": {},
  "hide_input": false,
  "kernelspec": {
   "display_name": "Python [default]",
   "language": "python",
   "name": "python2"
  },
  "language_info": {
   "codemirror_mode": {
    "name": "ipython",
    "version": 2
   },
   "file_extension": ".py",
   "mimetype": "text/x-python",
   "name": "python",
   "nbconvert_exporter": "python",
   "pygments_lexer": "ipython2",
   "version": "2.7.12"
  },
  "toc": {
   "colors": {
    "hover_highlight": "#DAA520",
    "running_highlight": "#FF0000",
    "selected_highlight": "#FFD700"
   },
   "moveMenuLeft": true,
   "nav_menu": {
    "height": "136px",
    "width": "252px"
   },
   "navigate_menu": true,
   "number_sections": true,
   "sideBar": true,
   "threshold": 4,
   "toc_cell": true,
   "toc_position": {
    "height": "767px",
    "left": "0px",
    "right": "1555px",
    "top": "107px",
    "width": "365px"
   },
   "toc_section_display": "block",
   "toc_window_display": true
  }
 },
 "nbformat": 4,
 "nbformat_minor": 1
}
